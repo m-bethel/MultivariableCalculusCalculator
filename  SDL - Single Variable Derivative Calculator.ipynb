{
 "cells": [
  {
   "cell_type": "markdown",
   "id": "630f9b05",
   "metadata": {},
   "source": [
    "Making a single variable derivative calculator is easy and fun. As it turns out, most of the hard work is done already. All we need to know is how to do 4 simple things in python with the proper syntax (coding grammer). \n",
    "1. How to Import libraries\n",
    "2. How to Assign Variables\n",
    "3. How to Format \"strings\"\n",
    "4. How to make and \"call\" (use) a Function\n",
    "\n",
    "I will outline each one of these tasks in my example code below using #s\n"
   ]
  },
  {
   "cell_type": "code",
   "execution_count": null,
   "id": "54545df8",
   "metadata": {},
   "outputs": [],
   "source": [
    "# Single Variable Derivative Calculator\n",
    "\n",
    "    #1 Importing Libraries. Simply type: from [library] import [whatever you want to use. in this case I chose an '*' becasue it\n",
    "    # imports the ENTIRE library.]\n",
    "\n",
    "import sympy as sym\n",
    "from numpy import *\n",
    "\n",
    "    #2 & 3 Here we are doing both 2, assigning the variable \"symbol\", and 3, using the command \"input\" to tell the user to put \n",
    "    #  something in. We use the \"Enter variable to differentiate: \" to tell the user what kind of input we are looking for.\n",
    "    #  in this case, just the varaibel we want to differentiate. Typically will be \"x\"\n",
    "    #User input for the variable\n",
    "\n",
    "symbol = input(\"Enter variable to differentiate: \")\n",
    "\n",
    "    #4 Making a function, first we DEFINE the funtion. Lets call it deriv. just put a (): after, its the syntax (grammer)\n",
    "\n",
    "\n",
    "\n",
    "\n",
    "    #defining the function\n",
    "def deriv():\n",
    "        # notice how we are doing step 2 & 3 inside of the function? Super easy, just make a new variable name, lets call it \n",
    "        # \"function\" because thats easy. Its asks what function to derive.\n",
    "    \n",
    "    function=input(\"Enter Function: \")\n",
    "    \n",
    "        # Look, the next line we do it again, to later refer to the whole thing at once, and we use the command, \"diff\" to tell python\n",
    "        # to derive it. Thank you sympy for doing the hard work. the command \"diff\" takes 2 inputs or \"arguments\". The Function, and \n",
    "        # the varaible to derive.\n",
    "    \n",
    "    der=sym.diff(function,symbol)\n",
    "        #We got to tell it to show us or \"print\"\n",
    "    \n",
    "    print(der)\n",
    "    \n",
    "        #That's all we got to do to solve symbolically, but the next part has the user put some values in to solve for the derivative\n",
    "    \n",
    "    print('Enter Value of x: ')\n",
    "    \n",
    "        #Here we assign another variable, \"sub\" and tell it we will be giving it a \"float\" as an argument\n",
    "    \n",
    "    sub=float(input())\n",
    "    \n",
    "        #We are now assigning another variable and using a command or \"native function\" to tell it to substitute the value of x the \n",
    "        # user gave it, in order to solve for the derivative. It takes 2 arguments, the thing we want to substitute, and what we \n",
    "        # want to substitute it with.\n",
    "    \n",
    "    d=der.subs(symbol,sub)\n",
    "    \n",
    "        \n",
    "    \n",
    "    print(f\"Value of the derivative is:{d}\")\n",
    "\n",
    "\n",
    "# This is probably the most crucial part. We have to \"call\" the function, or it won't work. Simply type the name of our function\n",
    "# with () after as we see here:\n",
    "\n",
    "deriv()\n",
    "\n",
    "#Note, enter the function with Paranthesis in order to ensure proper order of operations\n",
    "\n",
    "#Done"
   ]
  },
  {
   "cell_type": "code",
   "execution_count": 37,
   "id": "3852ed4c",
   "metadata": {},
   "outputs": [
    {
     "name": "stdout",
     "output_type": "stream",
     "text": [
      "Enter variable to differentiate: x\n",
      "Enter Function: cos(x)*sin(x)*3\n",
      "-3*sin(x)**2 + 3*cos(x)**2\n",
      "Enter Value of x: \n",
      "3.5\n",
      "Value of the derivative is:2.26170676302991\n"
     ]
    }
   ],
   "source": [
    "# Single Variable Derivative Calculator\n",
    "\n",
    "#This is what all of this looks like without all the commnents and spacing\n",
    "import sympy as sym\n",
    "from numpy import *\n",
    "\n",
    "\n",
    "x = Symbol(input(\"Enter variable to differentiate: \"))\n",
    "\n",
    "def deriv():\n",
    "    function=input(\"Enter Function: \")\n",
    "    der=sym.diff(function,x)\n",
    "    print(der)\n",
    "    print('Enter Value of x: ')\n",
    "    sub=float(input())\n",
    "    d=der.subs(symbol,sub)\n",
    "    print(f\"Value of the derivative is:{d}\")\n",
    "\n",
    "deriv()\n"
   ]
  },
  {
   "cell_type": "code",
   "execution_count": 36,
   "id": "c5797b30",
   "metadata": {},
   "outputs": [
    {
     "name": "stdout",
     "output_type": "stream",
     "text": [
      "Enter variable to integrate: x\n",
      "Enter Function: 2*x+1\n",
      "x**2 + x\n",
      "Enter Value of x: \n",
      "4\n",
      "Value of the integral is:20.0000000000000\n"
     ]
    }
   ],
   "source": [
    "# Single Variable Integral Calculator\n",
    "#If we want to make an integral calculator, we just need to make a few adjustments\n",
    "\n",
    "from sympy import integrate as ints\n",
    "from numpy import *\n",
    "\n",
    "x = Symbol(input(\"Enter variable to integrate: \"))\n",
    "\n",
    "def intergrand():\n",
    "    function=input(\"Enter Function: \")\n",
    "    der=ints(function,x)\n",
    "    print(der)\n",
    "    print('Enter Value of x: ')\n",
    "    sub=float(input())\n",
    "    d=der.subs(symbol,sub)\n",
    "    print(f\"Value of the integral is:{d}\")\n",
    "\n",
    "intergrand()\n"
   ]
  },
  {
   "cell_type": "code",
   "execution_count": null,
   "id": "2918f2c0",
   "metadata": {},
   "outputs": [],
   "source": []
  }
 ],
 "metadata": {
  "kernelspec": {
   "display_name": "Python 3 (ipykernel)",
   "language": "python",
   "name": "python3"
  },
  "language_info": {
   "codemirror_mode": {
    "name": "ipython",
    "version": 3
   },
   "file_extension": ".py",
   "mimetype": "text/x-python",
   "name": "python",
   "nbconvert_exporter": "python",
   "pygments_lexer": "ipython3",
   "version": "3.9.12"
  }
 },
 "nbformat": 4,
 "nbformat_minor": 5
}
