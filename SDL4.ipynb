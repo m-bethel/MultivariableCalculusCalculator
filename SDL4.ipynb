{
 "cells": [
  {
   "cell_type": "code",
   "execution_count": 1,
   "id": "2fd8bc62-6339-4d64-b877-9722063193e6",
   "metadata": {
    "tags": []
   },
   "outputs": [],
   "source": [
    "from numpy import *\n",
    "import sympy as sym\n",
    "from scipy import *\n",
    "x,y,z,λ=sym.symbols('x y z λ', real=True)\n",
    "sym.init_printing(use_unicode = True)"
   ]
  },
  {
   "cell_type": "markdown",
   "id": "934ed6c9-b91a-4706-ab75-34b8852c6bf5",
   "metadata": {},
   "source": [
    "Use this block of code to input a function, it can do up 3 variables, x, y, z."
   ]
  },
  {
   "cell_type": "code",
   "execution_count": 2,
   "id": "95166330-c493-4b7e-bdd3-afb98dc6b20d",
   "metadata": {
    "tags": []
   },
   "outputs": [],
   "source": [
    "f = 4*x**2-2*x*y+y**2-2*y"
   ]
  },
  {
   "cell_type": "code",
   "execution_count": 3,
   "id": "a9a104af-8b1c-41d9-8d70-0c2652038b83",
   "metadata": {
    "tags": []
   },
   "outputs": [],
   "source": [
    "eqx = sym.Eq(sym.diff(f, x),0)\n",
    "eqy = sym.Eq(sym.diff(f, y),0)\n",
    "eqz=sym.Eq(sym.diff(f, z),0)"
   ]
  },
  {
   "cell_type": "code",
   "execution_count": 4,
   "id": "9267d92f-5ab2-43fa-bfd4-5e129fb55fa3",
   "metadata": {
    "tags": []
   },
   "outputs": [
    {
     "data": {
      "image/png": "[encoded data removed]",
      "text/latex": [
       "$\\displaystyle \\left\\{ x : \\frac{1}{3}, \\  y : \\frac{4}{3}\\right\\}$"
      ],
      "text/plain": [
       "{x: 1/3, y: 4/3}"
      ]
     },
     "metadata": {},
     "output_type": "display_data"
    }
   ],
   "source": [
    "display(sym.solve([eqx, eqy, eqz], (x, y, z)))"
   ]
  },
  {
   "cell_type": "code",
   "execution_count": 5,
   "id": "8d4cff80-a2f1-4cca-845d-f6e69d59c4d9",
   "metadata": {
    "tags": []
   },
   "outputs": [
    {
     "name": "stdout",
     "output_type": "stream",
     "text": [
      "( -3) ( 4*y) \n",
      "( 4*y) ( 4*x + 6*y) \n"
     ]
    }
   ],
   "source": [
    "sym.init_printing(use_unicode = True)\n",
    "dg=array([-3*x+2*y**2-6,4*x*y+3*y**2])\n",
    "\n",
    "ddg=array([[sym.diff(dg[0], x),sym.diff(dg[0], y)],[sym.diff(dg[1], x),sym.diff(dg[1], y)]])\n",
    "for i in ddg:\n",
    "    for j in i:\n",
    "        print('(',j, end=\") \")\n",
    "    print('')\n"
   ]
  },
  {
   "cell_type": "code",
   "execution_count": 160,
   "id": "ea29ff84-f648-4aa3-948d-6f5709381cd6",
   "metadata": {
    "tags": []
   },
   "outputs": [],
   "source": [
    "from pandas import DataFrame\n",
    "ddh=array([[-3*x,1],[1,3*y-6]])\n",
    "\n",
    "\n"
   ]
  },
  {
   "cell_type": "code",
   "execution_count": 163,
   "id": "a536e93e-90c5-4e2f-961b-a1c5a427d5ef",
   "metadata": {
    "tags": []
   },
   "outputs": [
    {
     "name": "stdout",
     "output_type": "stream",
     "text": [
      "( -3*x) ( 1) \n",
      "( 1) ( 3*y - 6) \n"
     ]
    },
    {
     "data": {
      "text/html": [
       "<div>\n",
       "<style scoped>\n",
       "    .dataframe tbody tr th:only-of-type {\n",
       "        vertical-align: middle;\n",
       "    }\n",
       "\n",
       "    .dataframe tbody tr th {\n",
       "        vertical-align: top;\n",
       "    }\n",
       "\n",
       "    .dataframe thead th {\n",
       "        text-align: right;\n",
       "    }\n",
       "</style>\n",
       "<table border=\"1\" class=\"dataframe\">\n",
       "  <thead>\n",
       "    <tr style=\"text-align: right;\">\n",
       "      <th></th>\n",
       "      <th>x</th>\n",
       "      <th>y</th>\n",
       "    </tr>\n",
       "  </thead>\n",
       "  <tbody>\n",
       "    <tr>\n",
       "      <th>A</th>\n",
       "      <td>0</td>\n",
       "      <td>2</td>\n",
       "    </tr>\n",
       "    <tr>\n",
       "      <th>B</th>\n",
       "      <td>-1</td>\n",
       "      <td>3</td>\n",
       "    </tr>\n",
       "  </tbody>\n",
       "</table>\n",
       "</div>"
      ],
      "text/plain": [
       "   x  y\n",
       "A  0  2\n",
       "B -1  3"
      ]
     },
     "metadata": {},
     "output_type": "display_data"
    }
   ],
   "source": [
    "for i in ddh:\n",
    "    for j in i:\n",
    "        print('(',j, end=\") \")\n",
    "    print('')\n",
    "    \n",
    "cp={'x':[0,-1],\"y\":[2,3]}\n",
    "data=DataFrame(cp,index=[\"A\",\"B\"])\n",
    "\n",
    "display(data)\n"
   ]
  },
  {
   "cell_type": "code",
   "execution_count": 173,
   "id": "3150e794-4e4f-49e8-bcf8-495389844ff9",
   "metadata": {
    "tags": []
   },
   "outputs": [
    {
     "name": "stdout",
     "output_type": "stream",
     "text": [
      "( 0) ( 1) \n",
      "( 1) ( 0) \n",
      "( 0) ( 2) \n",
      "\n",
      "( 3) ( 1) \n",
      "( 1) ( 3) \n",
      "( -1) ( 3) \n"
     ]
    }
   ],
   "source": [
    "ddhp1=array([[ddh[0,0].subs(x,data.at[\"A\",'x']),1],[1,ddh[1,1].subs(y,data.at[\"A\",'y'])],[data.at[\"A\",'x'],data.at[\"A\",'y']]])\n",
    "for i in ddhp1:\n",
    "    for j in i:\n",
    "        print('(',j, end=\") \")\n",
    "    print('')\n",
    "    \n",
    "print()\n",
    "\n",
    "ddhp2=array([[ddh[0,0].subs(x,data.at[\"B\",'x']),1],[1,ddh[1,1].subs(y,data.at[\"B\",'y'])],[data.at[\"B\",'x'],data.at[\"B\",'y']]])\n",
    "for i in ddhp2:\n",
    "    for j in i:\n",
    "        print('(',j, end=\") \")\n",
    "    print('')\n",
    "eigenexpr1=sym.Eq((ddhp1[0,0]-λ)*(ddhp1[1,1]-λ)-(ddhp1[0,1]*ddhp1[1,0]),0)\n",
    "eigenexpr2=sym.Eq((ddhp2[0,0]-λ)*(ddhp2[1,1]-λ)-(ddhp2[0,1]*ddhp2[1,0]),0)"
   ]
  },
  {
   "cell_type": "code",
   "execution_count": 9,
   "id": "cc8ca748-e608-4ce8-8eb3-5c2cd02926a0",
   "metadata": {
    "tags": []
   },
   "outputs": [
    {
     "data": {
      "image/png": "[encoded data removed]",
      "text/latex": [
       "$\\displaystyle \\left[ -1, \\  1\\right]$"
      ],
      "text/plain": [
       "[-1, 1]"
      ]
     },
     "metadata": {},
     "output_type": "display_data"
    }
   ],
   "source": [
    "eigenvalue1=sym.solve(eigenexpr1,(λ))\n",
    "display(eigenvalue1)"
   ]
  },
  {
   "cell_type": "code",
   "execution_count": 10,
   "id": "e09b1034-7c6a-46af-87db-c30bf0554f15",
   "metadata": {
    "tags": []
   },
   "outputs": [
    {
     "data": {
      "image/png": "[encoded data removed]",
      "text/latex": [
       "$\\displaystyle \\left[ 2, \\  4\\right]$"
      ],
      "text/plain": [
       "[2, 4]"
      ]
     },
     "metadata": {},
     "output_type": "display_data"
    }
   ],
   "source": [
    "eigenvalue2=sym.solve(eigenexpr2,(λ))\n",
    "display(eigenvalue2)"
   ]
  },
  {
   "cell_type": "code",
   "execution_count": 11,
   "id": "53b089ef-e561-481c-af09-71436df00526",
   "metadata": {
    "tags": []
   },
   "outputs": [
    {
     "name": "stdout",
     "output_type": "stream",
     "text": [
      "Saddle point @: ( -1 , 1 )\n",
      "Local Minimum @: ( 2 , 4 )\n"
     ]
    }
   ],
   "source": [
    "def check(n,i):\n",
    "    if n > 0 and i >0:\n",
    "        print(\"Local Minimum @: (\",n,\",\",i,\")\")\n",
    "    elif n < 0 and i >0:\n",
    "        print(\"Saddle point @: (\",n,\",\",i,\")\")\n",
    "    elif n > 0 and i < 0:\n",
    "        print(\"Saddle point @: (\",n,\",\",i,\")\")\n",
    "    elif n < 0 and i < 0:\n",
    "        print(\"Local Maximum @: (\",n,\",\",i,\")\")\n",
    "    else:\n",
    "        print(\"undefined/not a valid answer\")\n",
    "check(eigenvalue1[0],eigenvalue1[1])\n",
    "check(eigenvalue2[0],eigenvalue2[1])"
   ]
  },
  {
   "cell_type": "markdown",
   "id": "7cec37cc-8dd2-49df-a98f-b2d7a253a198",
   "metadata": {
    "tags": []
   },
   "source": [
    "This took me 3.5 hours, writing the code based off of previously defined expressions. At this point, I am now trying to utlize classes "
   ]
  },
  {
   "cell_type": "code",
   "execution_count": 176,
   "id": "5d1964e1-a9df-4608-af1f-60261ddb4eaa",
   "metadata": {
    "tags": []
   },
   "outputs": [],
   "source": [
    "class Eigen:\n",
    "    def __init__(self, matrix):\n",
    "        self.matrix = matrix\n",
    "\n",
    "    def calculate_eigenvalues(self):\n",
    "        eigenvalues=sym.solve(sym.Eq((self[0,0]-λ)*(self[1,1]-λ)-(self[0,1]*self[1,0]),0),(λ))\n",
    "        return eigenvalues\n",
    "            \n",
    "    def check(self):\n",
    "        eigenvalues=sym.solve(sym.Eq((self[0,0]-λ)*(self[1,1]-λ)-(self[0,1]*self[1,0]),0),(λ))\n",
    "        n,i=eigenvalues[0],eigenvalues[1]\n",
    "        \n",
    "        if n > 0 and i > 0:\n",
    "            print(\"Local Minimum @: (\",self[2,0],\",\",self[2,1],\")\")\n",
    "        elif n < 0 and i > 0:\n",
    "            print(\"Saddle point @: (\",self[2,0],\",\",self[2,1],\")\")\n",
    "        elif n > 0 and i < 0:\n",
    "            print(\"Saddle point @: (\",self[2,0],\",\",self[2,1],\")\")\n",
    "        elif n < 0 and i < 0:\n",
    "            print(\"Local Maximum @: (\",self[2,0],\",\",self[2,1],\")\")\n",
    "        else:\n",
    "            print(\"undefined/not a valid answer\")\n",
    "\n",
    "    "
   ]
  },
  {
   "cell_type": "code",
   "execution_count": 178,
   "id": "37b030f2-9a15-42c5-90bc-3f40750a7df7",
   "metadata": {
    "tags": []
   },
   "outputs": [
    {
     "name": "stdout",
     "output_type": "stream",
     "text": [
      "[-1, 1]\n",
      "[2, 4]\n",
      "Saddle point @: ( 0 , 2 )\n"
     ]
    }
   ],
   "source": [
    "print(Eigen.calculate_eigenvalues(ddhp1))\n",
    "print(Eigen.calculate_eigenvalues(ddhp2))\n",
    "Eigen.check(ddhp1)"
   ]
  },
  {
   "cell_type": "markdown",
   "id": "a279e859-68ea-4caa-89e9-720901f98019",
   "metadata": {},
   "source": [
    "The class above took me about 2 hours to figure out, and I had to go back and rewrite some othe lines to make it work for more generalized situations but I will admit, it does simplyfy writing quite a bit. The class replaces the 4 blocks of code above it in a consice way."
   ]
  }
 ],
 "metadata": {
  "kernelspec": {
   "display_name": "Python 3 (ipykernel)",
   "language": "python",
   "name": "python3"
  },
  "language_info": {
   "codemirror_mode": {
    "name": "ipython",
    "version": 3
   },
   "file_extension": ".py",
   "mimetype": "text/x-python",
   "name": "python",
   "nbconvert_exporter": "python",
   "pygments_lexer": "ipython3",
   "version": "3.11.5"
  }
 },
 "nbformat": 4,
 "nbformat_minor": 5
}
