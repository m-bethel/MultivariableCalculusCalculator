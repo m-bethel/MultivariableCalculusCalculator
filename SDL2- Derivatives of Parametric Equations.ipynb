{
 "cells": [
  {
   "cell_type": "code",
   "execution_count": 69,
   "id": "2f1bd1e9",
   "metadata": {
    "scrolled": true
   },
   "outputs": [
    {
     "name": "stdout",
     "output_type": "stream",
     "text": [
      "What do you want to do? \n",
      "1. Find the velocity, speed, and acceleration fo a parametric equation. \n",
      "2. Find a vector equation of the tangent line to the parametric equation. \n",
      "3. Find the Work done by the force f(x,y) on an object that moves along path r(t) within bounds x<t<y \n"
     ]
    },
    {
     "name": "stdin",
     "output_type": "stream",
     "text": [
      " 3\n",
      "Enter x-component of the Force:  -2*x*y\n",
      "Enter y-component of the Force:  4*x+y\n",
      "Enter r_x(t) for the object along the path:  -t\n",
      "Enter r_y(t) for the object along the path:  t**2\n",
      "Enter lower bound:  -2\n",
      "Enter upper bound:  1\n"
     ]
    },
    {
     "name": "stdout",
     "output_type": "stream",
     "text": [
      "f(x,y) = (2*t**3,t**2 - 4*t)\n",
      "w = ∫ -8*t**2  =  -24\n"
     ]
    }
   ],
   "source": [
    "# Derivatives and Integrals of Parametric Equations\n",
    "\n",
    "#This will be fun....kmn\n",
    "\n",
    "#We have to figure out a way to have python recognize the different parts of user input as the parametrization\n",
    "# use sympy.parse_expr\n",
    "\n",
    "#Derivative Portion\n",
    "#Derivatives and Tangent Lines for Parametric Equations\n",
    "\n",
    "#Finding the Velocity, Speed and Acceleration\n",
    "import sympy as sym\n",
    "from sympy import *\n",
    "from numpy import *\n",
    "init_printing(use_unicode = True)\n",
    "\n",
    "def userchoice():\n",
    "    print(\"What do you want to do? \")\n",
    "    print(\"1. Find the velocity, speed, and acceleration fo a parametric equation. \")\n",
    "    print(\"2. Find a vector equation of the tangent line to the parametric equation. \")\n",
    "    print(\"3. Find the Work done by the force f(x,y) on an object that moves along path r(t) within bounds x<t<y \")\n",
    "    choice=input()\n",
    "    if choice == '1' :\n",
    "        parametric()\n",
    "    if choice == '2':\n",
    "        vectoreq()\n",
    "    if choice == '3':\n",
    "        workdone()\n",
    "        \n",
    "\n",
    "def parametric():\n",
    "    t=Symbol(input(\"Enter parametric variable: \"))\n",
    "    xfunc=input(\"Enter x-portion of the parametric equation: \")\n",
    "    yfunc=input(\"Enter y-portion of the parametric equation: \")\n",
    "    dx=sym.diff(xfunc,t)\n",
    "    dy=sym.diff(yfunc,t)\n",
    "    ddx=sym.diff(dx,t)\n",
    "    ddy=sym.diff(dy,t)\n",
    "    print(f\"r(t)=({xfunc},{yfunc})\")\n",
    "    print(f\"Velocity = V(t)= ({dx},{dy})\")\n",
    "    print(\"Speed = |V(t)|=\",u\"\\u221A\",dx**2+dy**2)\n",
    "    print(f\"Acceleration = a(t)= ({ddx},{ddy})\")\n",
    "\n",
    "    \n",
    "def vectoreq():\n",
    "    t=Symbol(input(\"Enter parametric variable: \"))\n",
    "    xfunc= sym.parse_expr(input(\"Enter x-portion of the parametric equation: \"))\n",
    "    yfunc= sym.parse_expr(input(\"Enter y-portion of the parametric equation: \"))\n",
    "    value=float(input(\"What is the value of t? \" ))\n",
    "    rx=xfunc.subs(t, value)\n",
    "    ry=yfunc.subs(t, value)\n",
    "    dx=sym.diff(xfunc,t)\n",
    "    dy=sym.diff(yfunc,t) \n",
    "    vx=dx.subs(t,value)\n",
    "    vy=dy.subs(t,value)\n",
    "    P=rx,ry\n",
    "    V=vx,vy\n",
    "    print(f\"P({value})=({P})\")\n",
    "    print(f\"r({value})=({V}){t}+({P})\")\n",
    "    \n",
    "def workdone():\n",
    "    x,y,t=symbols(\"x y t\")\n",
    "    f_x=sym.parse_expr(input(\"Enter x-component of the Force: \"))\n",
    "    f_y=sym.parse_expr(input(\"Enter y-component of the Force: \"))\n",
    "    r_xt=sym.parse_expr(input(\"Enter r_x(t) for the object along the path: \"))\n",
    "    r_yt=sym.parse_expr(input(\"Enter r_y(t) for the object along the path: \"))\n",
    "    r_t={x:r_xt,y:r_yt}\n",
    "    Lbound = int(input(\"Enter lower bound: \"))\n",
    "    Ubound = int(input(\"Enter upper bound: \"))\n",
    "    fx= f_x.subs(r_t)\n",
    "    fy= f_y.subs(r_t)\n",
    "    print(f\"f(x,y) = ({fx},{fy})\")\n",
    "    dx=sym.diff(r_xt,t)\n",
    "    dy=sym.diff(r_yt,t)                                                                                                                                                                                                                                                                                                                                                                                                                                                                                                                                                                                                                                                                                                                                                                                                                                                                                                                                                                                                                                                                                                                                                                                                                                                                                                                                                                                                                                                                                                                                                                                                                                                                                                                                                                                                                                                                                                                                                                                                                                                                                                                                                                                                                                                                                                                                                                                                                                                                                                                                                                                                                                                                                                                                                                                                                                                                                                                                                                                                                                                                                                                                                                                                                                                                                                                                                                                                                                            \n",
    "    w=(fx*dx)+(fy*dy)\n",
    "    print(f\"w =\",u\"\\u222B\",simplify(w),\" = \",integrate(w,(t,Lbound,Ubound))) \n",
    "\n",
    "userchoice()\n"
   ]
  }
 ],
 "metadata": {
  "kernelspec": {
   "display_name": "Python 3 (ipykernel)",
   "language": "python",
   "name": "python3"
  },
  "language_info": {
   "codemirror_mode": {
    "name": "ipython",
    "version": 3
   },
   "file_extension": ".py",
   "mimetype": "text/x-python",
   "name": "python",
   "nbconvert_exporter": "python",
   "pygments_lexer": "ipython3",
   "version": "3.9.12"
  }
 },
 "nbformat": 4,
 "nbformat_minor": 5
}
