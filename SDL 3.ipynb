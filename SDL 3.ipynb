{
 "cells": [
  {
   "cell_type": "code",
   "execution_count": 16,
   "id": "a0ef0dc9-0eb0-4ac1-bd61-f0caa4570a42",
   "metadata": {
    "tags": []
   },
   "outputs": [],
   "source": [
    "from numpy import *\n",
    "import sympy as sym\n",
    "from scipy import *\n",
    "from matplotlib import pyplot as plt\n",
    "\n",
    "x,y=sym.symbols('x y')"
   ]
  },
  {
   "cell_type": "code",
   "execution_count": 17,
   "id": "4e58fa1f-117f-45b4-88c5-35c857b934f0",
   "metadata": {
    "tags": []
   },
   "outputs": [],
   "source": [
    "class SDL:\n",
    "    def __init__(self,func,ILbound,IUbound,OLbound,OUbound):\n",
    "        self.func = func\n",
    "        self.ILbound=ILbound\n",
    "        self.IUbound=IUbound\n",
    "        self.OLbound=OLbound\n",
    "        self.OUbound=OUbound\n",
    "    \n",
    "    def singleint(self):\n",
    "        f=lambda x,y: self.func\n",
    "        integrate.quad(f,self.ILbound,self.IUbound)\n",
    "    def doubleint(self):\n",
    "        f=lambda x,y:self.func\n",
    "        integrate.dblquad(f,self.ILbound,self.IUbound,self.OLbound,self.OUbound)\n",
    "    #def graphsingleint(self):\n",
    "    \n",
    "    #def graphdoubleint(self):\n",
    "    \n",
    "\n",
    "\n",
    "              \n"
   ]
  },
  {
   "cell_type": "code",
   "execution_count": 18,
   "id": "197eca27-2fe1-4d09-b899-e486b0cc6631",
   "metadata": {
    "tags": []
   },
   "outputs": [],
   "source": [
    "def choice():         \n",
    "    print(\"Which operation would you likeL: ?\")\n",
    "    print(\"1. Graph and shade region in xy plane of Integral?\")\n",
    "    print(\"2. Compute the Integral?\")\n",
    "    choice = input(\"Enter your choice: \")\n",
    "    \n",
    "    if choice == '1':\n",
    "        pass\n",
    "        #which()\n",
    "    if choice == '2':\n",
    "        which()\n",
    "    else:\n",
    "        choice != '1 2'\n",
    "        print(\"Invalid option\")\n",
    "        \n",
    "def which():\n",
    "    print(\"Which kind of integral?\")\n",
    "    print(\"1. Single Integral \")\n",
    "    print(\"2. Double Integral \")\n",
    "    choice = input(\"Enter your choice: \")\n",
    "    \n",
    "    if choice == '1':\n",
    "        func = sym.parse_expr(input(\"Enter intergral expression: \"))\n",
    "        ILbound=sym.parse_expr(input(\"Enter lower bound: \"))\n",
    "        IUbound=sym.parse_expr(input(\"Enter upper bound: \"))\n",
    "        r1=SDL(func,ILbound,IUbound,0,0)\n",
    "        r1.singleint()\n",
    "    if choice == '2':\n",
    "        func = sym.parse_expr(input(\"Enter intergral expression: \"))\n",
    "        ILbound=sym.parse_expr(input(\"Enter inner lower bound: \"))\n",
    "        IUbound=sym.parse_expr(input(\"Enter inner upper bound: \"))\n",
    "        OLbound=sym.parse_expr(input(\"Enter outer lower bound: \"))\n",
    "        OUbound=sym.parse_expr\n",
    "        (input(\"Enter outer upper bound: \"))\n",
    "        r2=SDL(func,ILbound,IUbound,OLbound,OUbound)\n",
    "        r2.doubleint()\n",
    "    else:\n",
    "        choice != '1 2'\n",
    "        print(\"Invalid option\")\n",
    "            \n",
    "\n"
   ]
  },
  {
   "cell_type": "code",
   "execution_count": 19,
   "id": "3f3afb92-0adc-4acb-8a40-4f6559170d43",
   "metadata": {
    "tags": []
   },
   "outputs": [
    {
     "name": "stdout",
     "output_type": "stream",
     "text": [
      "Which operation would you likeL: ?\n",
      "1. Graph and shade region in xy plane of Integral?\n",
      "2. Compute the Integral?\n"
     ]
    },
    {
     "name": "stdin",
     "output_type": "stream",
     "text": [
      "Enter your choice:  2\n"
     ]
    },
    {
     "name": "stdout",
     "output_type": "stream",
     "text": [
      "Which kind of integral?\n",
      "1. Single Integral \n",
      "2. Double Integral \n"
     ]
    },
    {
     "name": "stdin",
     "output_type": "stream",
     "text": [
      "Enter your choice:  1\n",
      "Enter intergral expression:  x*y\n",
      "Enter lower bound:  0\n",
      "Enter upper bound:  2\n"
     ]
    },
    {
     "ename": "TypeError",
     "evalue": "SDL.singleint.<locals>.<lambda>() missing 1 required positional argument: 'y'",
     "output_type": "error",
     "traceback": [
      "\u001b[1;31m---------------------------------------------------------------------------\u001b[0m",
      "\u001b[1;31mTypeError\u001b[0m                                 Traceback (most recent call last)",
      "Cell \u001b[1;32mIn[19], line 1\u001b[0m\n\u001b[1;32m----> 1\u001b[0m choice()\n",
      "Cell \u001b[1;32mIn[18], line 11\u001b[0m, in \u001b[0;36mchoice\u001b[1;34m()\u001b[0m\n\u001b[0;32m      9\u001b[0m     \u001b[38;5;66;03m#which()\u001b[39;00m\n\u001b[0;32m     10\u001b[0m \u001b[38;5;28;01mif\u001b[39;00m choice \u001b[38;5;241m==\u001b[39m \u001b[38;5;124m'\u001b[39m\u001b[38;5;124m2\u001b[39m\u001b[38;5;124m'\u001b[39m:\n\u001b[1;32m---> 11\u001b[0m     which()\n\u001b[0;32m     12\u001b[0m \u001b[38;5;28;01melse\u001b[39;00m:\n\u001b[0;32m     13\u001b[0m     choice \u001b[38;5;241m!=\u001b[39m \u001b[38;5;124m'\u001b[39m\u001b[38;5;124m1 2\u001b[39m\u001b[38;5;124m'\u001b[39m\n",
      "Cell \u001b[1;32mIn[18], line 27\u001b[0m, in \u001b[0;36mwhich\u001b[1;34m()\u001b[0m\n\u001b[0;32m     25\u001b[0m     IUbound\u001b[38;5;241m=\u001b[39m\u001b[38;5;28mint\u001b[39m(\u001b[38;5;28minput\u001b[39m(\u001b[38;5;124m\"\u001b[39m\u001b[38;5;124mEnter upper bound: \u001b[39m\u001b[38;5;124m\"\u001b[39m))\n\u001b[0;32m     26\u001b[0m     r1\u001b[38;5;241m=\u001b[39mSDL(func,ILbound,IUbound,\u001b[38;5;241m0\u001b[39m,\u001b[38;5;241m0\u001b[39m)\n\u001b[1;32m---> 27\u001b[0m     r1\u001b[38;5;241m.\u001b[39msingleint()\n\u001b[0;32m     28\u001b[0m \u001b[38;5;28;01mif\u001b[39;00m choice \u001b[38;5;241m==\u001b[39m \u001b[38;5;124m'\u001b[39m\u001b[38;5;124m2\u001b[39m\u001b[38;5;124m'\u001b[39m:\n\u001b[0;32m     29\u001b[0m     func \u001b[38;5;241m=\u001b[39m sym\u001b[38;5;241m.\u001b[39mparse_expr(\u001b[38;5;28minput\u001b[39m(\u001b[38;5;124m\"\u001b[39m\u001b[38;5;124mEnter intergral expression: \u001b[39m\u001b[38;5;124m\"\u001b[39m))\n",
      "Cell \u001b[1;32mIn[17], line 11\u001b[0m, in \u001b[0;36mSDL.singleint\u001b[1;34m(self)\u001b[0m\n\u001b[0;32m      9\u001b[0m \u001b[38;5;28;01mdef\u001b[39;00m \u001b[38;5;21msingleint\u001b[39m(\u001b[38;5;28mself\u001b[39m):\n\u001b[0;32m     10\u001b[0m     f\u001b[38;5;241m=\u001b[39m\u001b[38;5;28;01mlambda\u001b[39;00m x,y: \u001b[38;5;28mself\u001b[39m\u001b[38;5;241m.\u001b[39mfunc\n\u001b[1;32m---> 11\u001b[0m     integrate\u001b[38;5;241m.\u001b[39mquad(f,\u001b[38;5;28mself\u001b[39m\u001b[38;5;241m.\u001b[39mILbound,\u001b[38;5;28mself\u001b[39m\u001b[38;5;241m.\u001b[39mIUbound)\n",
      "File \u001b[1;32m~\\anaconda3\\Lib\\site-packages\\scipy\\integrate\\_quadpack_py.py:465\u001b[0m, in \u001b[0;36mquad\u001b[1;34m(func, a, b, args, full_output, epsabs, epsrel, limit, points, weight, wvar, wopts, maxp1, limlst, complex_func)\u001b[0m\n\u001b[0;32m    462\u001b[0m     \u001b[38;5;28;01mreturn\u001b[39;00m retval\n\u001b[0;32m    464\u001b[0m \u001b[38;5;28;01mif\u001b[39;00m weight \u001b[38;5;129;01mis\u001b[39;00m \u001b[38;5;28;01mNone\u001b[39;00m:\n\u001b[1;32m--> 465\u001b[0m     retval \u001b[38;5;241m=\u001b[39m _quad(func, a, b, args, full_output, epsabs, epsrel, limit,\n\u001b[0;32m    466\u001b[0m                    points)\n\u001b[0;32m    467\u001b[0m \u001b[38;5;28;01melse\u001b[39;00m:\n\u001b[0;32m    468\u001b[0m     \u001b[38;5;28;01mif\u001b[39;00m points \u001b[38;5;129;01mis\u001b[39;00m \u001b[38;5;129;01mnot\u001b[39;00m \u001b[38;5;28;01mNone\u001b[39;00m:\n",
      "File \u001b[1;32m~\\anaconda3\\Lib\\site-packages\\scipy\\integrate\\_quadpack_py.py:577\u001b[0m, in \u001b[0;36m_quad\u001b[1;34m(func, a, b, args, full_output, epsabs, epsrel, limit, points)\u001b[0m\n\u001b[0;32m    575\u001b[0m \u001b[38;5;28;01mif\u001b[39;00m points \u001b[38;5;129;01mis\u001b[39;00m \u001b[38;5;28;01mNone\u001b[39;00m:\n\u001b[0;32m    576\u001b[0m     \u001b[38;5;28;01mif\u001b[39;00m infbounds \u001b[38;5;241m==\u001b[39m \u001b[38;5;241m0\u001b[39m:\n\u001b[1;32m--> 577\u001b[0m         \u001b[38;5;28;01mreturn\u001b[39;00m _quadpack\u001b[38;5;241m.\u001b[39m_qagse(func,a,b,args,full_output,epsabs,epsrel,limit)\n\u001b[0;32m    578\u001b[0m     \u001b[38;5;28;01melse\u001b[39;00m:\n\u001b[0;32m    579\u001b[0m         \u001b[38;5;28;01mreturn\u001b[39;00m _quadpack\u001b[38;5;241m.\u001b[39m_qagie(func,bound,infbounds,args,full_output,epsabs,epsrel,limit)\n",
      "\u001b[1;31mTypeError\u001b[0m: SDL.singleint.<locals>.<lambda>() missing 1 required positional argument: 'y'"
     ]
    }
   ],
   "source": [
    "    \n",
    "    \n",
    "choice()"
   ]
  },
  {
   "cell_type": "code",
   "execution_count": null,
   "id": "21c4cbdb-6180-404a-b7e1-9da7ff4b4b2a",
   "metadata": {},
   "outputs": [],
   "source": []
  }
 ],
 "metadata": {
  "kernelspec": {
   "display_name": "Python 3 (ipykernel)",
   "language": "python",
   "name": "python3"
  },
  "language_info": {
   "codemirror_mode": {
    "name": "ipython",
    "version": 3
   },
   "file_extension": ".py",
   "mimetype": "text/x-python",
   "name": "python",
   "nbconvert_exporter": "python",
   "pygments_lexer": "ipython3",
   "version": "3.11.5"
  }
 },
 "nbformat": 4,
 "nbformat_minor": 5
}
