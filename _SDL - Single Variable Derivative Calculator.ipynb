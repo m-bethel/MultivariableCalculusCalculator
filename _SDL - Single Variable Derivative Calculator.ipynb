{
 "cells": [
  {
   "cell_type": "code",
   "execution_count": 2,
   "id": "54545df8",
   "metadata": {},
   "outputs": [
    {
     "name": "stdout",
     "output_type": "stream",
     "text": [
      "Enter variable to differentiate: x\n",
      "Enter Function: (x**3)-(2*x**2)+x+5\n"
     ]
    },
    {
     "ename": "TypeError",
     "evalue": "'<' not supported between instances of 'str' and 'int'",
     "output_type": "error",
     "traceback": [
      "\u001b[1;31m---------------------------------------------------------------------------\u001b[0m",
      "\u001b[1;31mTypeError\u001b[0m                                 Traceback (most recent call last)",
      "Input \u001b[1;32mIn [2]\u001b[0m, in \u001b[0;36m<cell line: 20>\u001b[1;34m()\u001b[0m\n\u001b[0;32m     15\u001b[0m     d\u001b[38;5;241m=\u001b[39mder\u001b[38;5;241m.\u001b[39msubs(symbol,sub)\n\u001b[0;32m     16\u001b[0m     \u001b[38;5;28mprint\u001b[39m(\u001b[38;5;124mf\u001b[39m\u001b[38;5;124m\"\u001b[39m\u001b[38;5;124mValue of the derivative is:\u001b[39m\u001b[38;5;132;01m{\u001b[39;00m\u001b[38;5;28mfloat\u001b[39m(d)\u001b[38;5;132;01m:\u001b[39;00m\u001b[38;5;124m8.2e\u001b[39m\u001b[38;5;132;01m}\u001b[39;00m\u001b[38;5;124m\"\u001b[39m)\n\u001b[1;32m---> 20\u001b[0m \u001b[43mderiv\u001b[49m\u001b[43m(\u001b[49m\u001b[43m)\u001b[49m\n",
      "Input \u001b[1;32mIn [2]\u001b[0m, in \u001b[0;36mderiv\u001b[1;34m()\u001b[0m\n\u001b[0;32m      9\u001b[0m \u001b[38;5;28;01mdef\u001b[39;00m \u001b[38;5;21mderiv\u001b[39m():\n\u001b[0;32m     10\u001b[0m     function\u001b[38;5;241m=\u001b[39m\u001b[38;5;28minput\u001b[39m(\u001b[38;5;124m\"\u001b[39m\u001b[38;5;124mEnter Function: \u001b[39m\u001b[38;5;124m\"\u001b[39m)\n\u001b[1;32m---> 11\u001b[0m     der\u001b[38;5;241m=\u001b[39m\u001b[43mdiff\u001b[49m\u001b[43m(\u001b[49m\u001b[43mfunction\u001b[49m\u001b[43m,\u001b[49m\u001b[43m \u001b[49m\u001b[43msymbol\u001b[49m\u001b[43m)\u001b[49m\n\u001b[0;32m     12\u001b[0m     \u001b[38;5;28mprint\u001b[39m(der)\n\u001b[0;32m     13\u001b[0m     \u001b[38;5;28mprint\u001b[39m(\u001b[38;5;124m'\u001b[39m\u001b[38;5;124mEnter Value of x: \u001b[39m\u001b[38;5;124m'\u001b[39m)\n",
      "File \u001b[1;32m<__array_function__ internals>:5\u001b[0m, in \u001b[0;36mdiff\u001b[1;34m(*args, **kwargs)\u001b[0m\n",
      "File \u001b[1;32m~\\anaconda3\\lib\\site-packages\\numpy\\lib\\function_base.py:1251\u001b[0m, in \u001b[0;36mdiff\u001b[1;34m(a, n, axis, prepend, append)\u001b[0m\n\u001b[0;32m   1249\u001b[0m \u001b[38;5;28;01mif\u001b[39;00m n \u001b[38;5;241m==\u001b[39m \u001b[38;5;241m0\u001b[39m:\n\u001b[0;32m   1250\u001b[0m     \u001b[38;5;28;01mreturn\u001b[39;00m a\n\u001b[1;32m-> 1251\u001b[0m \u001b[38;5;28;01mif\u001b[39;00m \u001b[43mn\u001b[49m\u001b[43m \u001b[49m\u001b[38;5;241;43m<\u001b[39;49m\u001b[43m \u001b[49m\u001b[38;5;241;43m0\u001b[39;49m:\n\u001b[0;32m   1252\u001b[0m     \u001b[38;5;28;01mraise\u001b[39;00m \u001b[38;5;167;01mValueError\u001b[39;00m(\n\u001b[0;32m   1253\u001b[0m         \u001b[38;5;124m\"\u001b[39m\u001b[38;5;124morder must be non-negative but got \u001b[39m\u001b[38;5;124m\"\u001b[39m \u001b[38;5;241m+\u001b[39m \u001b[38;5;28mrepr\u001b[39m(n))\n\u001b[0;32m   1255\u001b[0m a \u001b[38;5;241m=\u001b[39m asanyarray(a)\n",
      "\u001b[1;31mTypeError\u001b[0m: '<' not supported between instances of 'str' and 'int'"
     ]
    }
   ],
   "source": [
    "# Single Variable Derivative Calculator\n",
    "from sympy import *\n",
    "from numpy import *\n",
    "\n",
    "#User imput for the variable\n",
    "symbol = input(\"Enter variable to differentiate: \")\n",
    "\n",
    "#defining the function\n",
    "def deriv():\n",
    "    function=input(\"Enter Function: \")\n",
    "    der=diff(function, symbol)\n",
    "    print(der)\n",
    "    print('Enter Value of x: ')\n",
    "    sub=int(input())\n",
    "    d=der.subs(symbol,sub)\n",
    "    print(f\"Value of the derivative is:{float(d):8.2e}\")\n",
    "\n",
    "\n",
    "\n",
    "deriv()\n",
    "\n",
    "#Note, enter the function with Paranthesis in order to ensure proper order of operations"
   ]
  },
  {
   "cell_type": "code",
   "execution_count": null,
   "id": "c026dbd6",
   "metadata": {},
   "outputs": [],
   "source": [
    "# Multivariable Derivative Calculator\n",
    "from sympy import *\n",
    "\n",
    "\n",
    "\n",
    "#User imput for the variable\n",
    "#symbol = input(\"Enter variable to differentiate: \")\n",
    "\n",
    "\n",
    "\n",
    "#defining the function\n",
    "def derive():\n",
    "    function=input(\"Enter Function: \")\n",
    "    der=diff(function, symbol)\n",
    "    print(der)\n",
    "    print('Enter Value of x: ')\n",
    "    sub=int(input())\n",
    "    d=der.subs(symbol,sub)\n",
    "    print(f\"Value of the derivative is:{float(d):8.2e}\")\n",
    "\n",
    "\n",
    "\n",
    "derive()\n",
    "\n",
    "#Note, enter the function with Paranthesis in order to ensure proper order of operations"
   ]
  }
 ],
 "metadata": {
  "kernelspec": {
   "display_name": "Python 3 (ipykernel)",
   "language": "python",
   "name": "python3"
  },
  "language_info": {
   "codemirror_mode": {
    "name": "ipython",
    "version": 3
   },
   "file_extension": ".py",
   "mimetype": "text/x-python",
   "name": "python",
   "nbconvert_exporter": "python",
   "pygments_lexer": "ipython3",
   "version": "3.9.12"
  }
 },
 "nbformat": 4,
 "nbformat_minor": 5
}
